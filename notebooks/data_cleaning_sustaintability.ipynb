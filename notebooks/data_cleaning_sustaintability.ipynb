{
 "cells": [
  {
   "cell_type": "code",
   "execution_count": null,
   "id": "4c0339c8-e052-4c0b-a2b9-6359447dbb27",
   "metadata": {},
   "outputs": [],
   "source": [
    "import pandas as pd\n",
    "import numpy as np"
   ]
  },
  {
   "cell_type": "code",
   "execution_count": null,
   "id": "4bd18749-530b-4397-8cd3-8ebf963ad08c",
   "metadata": {},
   "outputs": [],
   "source": [
    "df = pd.read_csv('../data/raw/World Energy Consumption.csv')\n",
    "df"
   ]
  },
  {
   "cell_type": "code",
   "execution_count": null,
   "id": "0194a732-67a4-4509-a5f0-18370473e9cb",
   "metadata": {},
   "outputs": [],
   "source": [
    "print(df.columns.tolist())"
   ]
  },
  {
   "cell_type": "code",
   "execution_count": null,
   "id": "f002be9f-9ee0-4d82-8830-302deb37132d",
   "metadata": {},
   "outputs": [],
   "source": [
    "selected_columns = [\n",
    "    'country', 'year', 'population', 'gdp',\n",
    "    'energy_per_capita', 'energy_per_gdp', 'primary_energy_consumption',\n",
    "    'fossil_fuel_consumption', 'low_carbon_consumption', 'renewables_consumption',\n",
    "    'coal_consumption', 'oil_consumption', 'gas_consumption',\n",
    "    'nuclear_consumption', 'hydro_consumption', 'biofuel_consumption',\n",
    "    'solar_consumption', 'wind_consumption', 'other_renewable_consumption'\n",
    "]\n",
    "\n",
    "# Drop all columns that are NOT in selected_columns\n",
    "df_energy = df[selected_columns]\n",
    "df_energy"
   ]
  },
  {
   "cell_type": "code",
   "execution_count": null,
   "id": "6e71c278-9cb6-4dcb-86a2-282df653e9fb",
   "metadata": {},
   "outputs": [],
   "source": [
    "df_energy.info()"
   ]
  },
  {
   "cell_type": "code",
   "execution_count": null,
   "id": "131a9066-a9a6-43c6-866d-14bae6987438",
   "metadata": {},
   "outputs": [],
   "source": [
    "df_energy.isnull().sum()"
   ]
  },
  {
   "cell_type": "code",
   "execution_count": null,
   "id": "0a096630-a708-49bb-b6fe-037e51e0f7af",
   "metadata": {},
   "outputs": [],
   "source": [
    "columns_to_drop = ['fossil_fuel_consumption', 'low_carbon_consumption', 'renewables_consumption', 'coal_consumption', \n",
    "                   'oil_consumption', 'gas_consumption', 'nuclear_consumption', 'hydro_consumption', \n",
    "                   'biofuel_consumption', 'solar_consumption', 'wind_consumption','other_renewable_consumption']\n",
    "df_energy = df_energy.copy()\n",
    "df_energy.drop(columns=columns_to_drop, inplace=True, errors='ignore')\n",
    "df_energy"
   ]
  },
  {
   "cell_type": "code",
   "execution_count": null,
   "id": "0f582cbc-4565-43c1-add1-49ba1c6f7d80",
   "metadata": {},
   "outputs": [],
   "source": [
    "df_energy['country'].unique()"
   ]
  },
  {
   "cell_type": "code",
   "execution_count": null,
   "id": "67acf208-2a60-4fe3-82a2-950e3d2362c5",
   "metadata": {},
   "outputs": [],
   "source": [
    "countries_to_keep = ['Brazil', 'Canada', 'China', 'Hong Kong', 'India', 'Italy', 'South Korea', 'México', 'Turkey', 'United States']  \n",
    "df_energy = df_energy[df_energy['country'].isin(countries_to_keep)].copy()\n",
    "df_energy"
   ]
  },
  {
   "cell_type": "code",
   "execution_count": null,
   "id": "d8194ae3-748c-4e78-8b57-5e07dcebeb49",
   "metadata": {},
   "outputs": [],
   "source": [
    "country_abbrev = {\n",
    "    'Brazil': 'BR',\n",
    "    'Canada': 'CA',\n",
    "    'China': 'CN',\n",
    "    'Hong Kong': 'HK',\n",
    "    'India': 'IN',\n",
    "    'Italy': 'IT',\n",
    "    'South Korea': 'KR',\n",
    "    'México': 'MX',\n",
    "    'Turkey': 'TR',\n",
    "    'United States': 'US'}\n",
    "df_energy['country'] = df_energy['country'].map(country_abbrev)\n",
    "df_energy"
   ]
  },
  {
   "cell_type": "code",
   "execution_count": null,
   "id": "788d0935-9c26-4a15-acf7-35977932753a",
   "metadata": {},
   "outputs": [],
   "source": [
    "df_energy['gdp'] = df_energy.groupby('country')['gdp'].transform(lambda x: x.fillna(x.median()))\n",
    "df_energy"
   ]
  },
  {
   "cell_type": "code",
   "execution_count": null,
   "id": "de229802-261c-4901-8a31-78d4cfe99b0f",
   "metadata": {},
   "outputs": [],
   "source": [
    "emission_consumption_df  = {\n",
    "    'country': ['AE', 'BR', 'CA', 'CN', 'HK', 'IN', 'IT', 'KR', 'MX', 'TR', 'US', 'ES'],\n",
    "    'emission_factor': [118.4, 37.9, 90.2, 163.2, 169.2, 208.9, 72.3, 120.5, 87.9, 124.8, 127.6, 68.0]}\n",
    "\n",
    "emission_consumption_df  = pd.DataFrame(emission_consumption_df )\n",
    "emission_consumption_df "
   ]
  },
  {
   "cell_type": "code",
   "execution_count": null,
   "id": "3c57a53f-1ad9-476f-9d19-75b424cd46a8",
   "metadata": {},
   "outputs": [],
   "source": [
    "df_energy.info()"
   ]
  },
  {
   "cell_type": "markdown",
   "id": "d580f1b6-0f53-4101-bc19-aa2885dd0d4f",
   "metadata": {},
   "source": [
    "Create a DataFrame for Emission Factors by Country"
   ]
  },
  {
   "cell_type": "code",
   "execution_count": null,
   "id": "6eb37100-aee7-4c76-b4c7-cc5b3eba57d4",
   "metadata": {},
   "outputs": [],
   "source": [
    "emission_factors_df  = {\n",
    "    'country': ['AE', 'BR', 'CA', 'CN', 'HK', 'IN', 'IT', 'KR', 'MX', 'TR', 'US', 'ES'],\n",
    "    'emission_factor_per_country': [118.4, 37.9, 90.2, 163.2, 169.2, 208.9, 72.3, 120.5, 87.9, 124.8, 127.6, 68.0]}\n",
    "\n",
    "emission_factors_df = pd.DataFrame(emission_factors_df)\n",
    "emission_factors_df"
   ]
  }
 ],
 "metadata": {
  "kernelspec": {
   "display_name": "venv",
   "language": "python",
   "name": "venv"
  },
  "language_info": {
   "codemirror_mode": {
    "name": "ipython",
    "version": 3
   },
   "file_extension": ".py",
   "mimetype": "text/x-python",
   "name": "python",
   "nbconvert_exporter": "python",
   "pygments_lexer": "ipython3",
   "version": "3.12.3"
  }
 },
 "nbformat": 4,
 "nbformat_minor": 5
}
